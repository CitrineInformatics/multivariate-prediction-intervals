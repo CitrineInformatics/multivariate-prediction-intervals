{
 "cells": [
  {
   "cell_type": "markdown",
   "id": "4cf1faa1",
   "metadata": {},
   "source": [
    "The goal of this notebook is to generate data that highlight the value of correlated uncertainty estimates to sequential learning. The Friedman-Grosse function is used to generate 128 output values, `y`, given inputs `x` uniformly generated on [0, 1]^12. The data are then split into two equally-sized chunks to generate a second output, `z`. These two chunks are identified by a \"phase\" column. For the first chunk, labeled \"A\" phase, `z` has a strong positive correlation with `y`. For the second chunk, labeled \"B\" phase, `z` is anti-correlated with `y`. The goal of sequential learning will be to find a point that simultaneously has a large value of both `y` and `z`. In theory, the model will be able to recognize the anti-correlation for points in the B phase, and these points will not be considered good candidates for meeting both objectives."
   ]
  },
  {
   "cell_type": "code",
   "execution_count": 2,
   "id": "8d4ac2cf",
   "metadata": {},
   "outputs": [],
   "source": [
    "import numpy as np\n",
    "import pandas as pd\n",
    "import matplotlib.pyplot as plt\n",
    "from sklearn.linear_model import LinearRegression\n",
    "import math"
   ]
  },
  {
   "cell_type": "code",
   "execution_count": 3,
   "id": "2f5271ea",
   "metadata": {},
   "outputs": [],
   "source": [
    "def FriedmanGrosse(X):\n",
    "    \"\"\"The Friedman-Grosse function. Dimensions past 5 are ignored.\"\"\"\n",
    "    if len(X.shape) == 1:\n",
    "        X = np.reshape(X, (1, -1))\n",
    "    return 10 * np.sin(np.pi * X[:,0] * X[:,1]) + \\\n",
    "        20 * (X[:,2] - 0.5)**2 + \\\n",
    "        10 * X[:,3] + \\\n",
    "        5 * X[:,4]"
   ]
  },
  {
   "cell_type": "code",
   "execution_count": 4,
   "id": "2aaa11a7",
   "metadata": {},
   "outputs": [],
   "source": [
    "def generateLinearlyCorrelatedData(x, rho, rng = np.random.default_rng()):\n",
    "    \"\"\"Generate data that are linearly correlated with input data, x.\n",
    "    rho is the desired correlation coefficient.\n",
    "    rng is a random number generator, for reproducibility.\n",
    "    \"\"\"\n",
    "    assert len(x.shape) == 1, \"X must be 1-dimensional\"\n",
    "    y = rng.normal(size = x.size, )\n",
    "    X = x.reshape(-1, 1)\n",
    "    reg = LinearRegression().fit(X, y)\n",
    "    y_pred = reg.predict(X)\n",
    "    residuals = y - y_pred\n",
    "    return rho * np.std(residuals) * x + math.sqrt(1 - rho ** 2) * np.std(x) * residuals"
   ]
  },
  {
   "cell_type": "code",
   "execution_count": 5,
   "id": "5f5eb2d8",
   "metadata": {},
   "outputs": [],
   "source": [
    "num_cols = 12\n",
    "num_points = 128"
   ]
  },
  {
   "cell_type": "code",
   "execution_count": 6,
   "id": "c838bdd5",
   "metadata": {},
   "outputs": [],
   "source": [
    "# Generate inputs X, output Y from Friedman-Grosse, and output Z as sqrt(30^2 - y^2)\n",
    "seed = 6531901145\n",
    "rng = np.random.default_rng(seed)\n",
    "X = rng.uniform(low=0.0, high=1.0, size=(num_points, num_cols))\n",
    "num_A = int(num_points / 2)\n",
    "# Split into two chunks of data.\n",
    "X_A = X[:num_A, :]\n",
    "X_B = X[num_A:, :]\n",
    "Y_A = FriedmanGrosse(X_A)\n",
    "Y_B = FriedmanGrosse(X_B)\n",
    "Z_A = generateLinearlyCorrelatedData(Y_A, 0.98, rng)\n",
    "Z_B = np.sqrt(30**2 - Y_B**2)"
   ]
  },
  {
   "cell_type": "code",
   "execution_count": 29,
   "id": "df99075e",
   "metadata": {},
   "outputs": [
    {
     "data": {
      "image/png": "[encoded data removed]",
      "text/plain": [
       "<Figure size 432x288 with 1 Axes>"
      ]
     },
     "metadata": {
      "needs_background": "light"
     },
     "output_type": "display_data"
    }
   ],
   "source": [
    "# Plot the data to ensure it has the desired properties\n",
    "plt.scatter(Y_A, Z_A, label=\"A data\")\n",
    "plt.scatter(Y_B, Z_B, label=\"B data\")\n",
    "plt.xlabel(\"first output (y)\")\n",
    "plt.ylabel(\"second output (z)\")\n",
    "plt.title(\"Two regions of data generated with Friedman-Grosse function\")\n",
    "plt.legend()\n",
    "plt.show()"
   ]
  },
  {
   "cell_type": "code",
   "execution_count": 10,
   "id": "8102bdbe",
   "metadata": {},
   "outputs": [],
   "source": [
    "def make_df(X, Y, Z, phase):\n",
    "    \"\"\"Combine X, Y, and Z into a single dataframe.\"\"\"\n",
    "    num_points, num_x_cols = X.shape\n",
    "    assert len(Y) == num_points\n",
    "    assert len(Z) == num_points\n",
    "    df_X = pd.DataFrame(data=X, columns=[f\"x_{i}\" for i in range(num_x_cols)])\n",
    "    df_other = pd.DataFrame(data={\"phase\": [phase]*num_points, \"y\": Y, \"z\": Z})\n",
    "    return pd.concat([df_X, df_other], axis=1)"
   ]
  },
  {
   "cell_type": "code",
   "execution_count": 11,
   "id": "da18c53d",
   "metadata": {},
   "outputs": [],
   "source": [
    "df_A = make_df(X_A, Y_A, Z_A, phase=\"A\")"
   ]
  },
  {
   "cell_type": "code",
   "execution_count": 12,
   "id": "d7b8e8be",
   "metadata": {},
   "outputs": [],
   "source": [
    "df_B = make_df(X_B, Y_B, Z_B, phase=\"B\")"
   ]
  },
  {
   "cell_type": "code",
   "execution_count": 13,
   "id": "67193415",
   "metadata": {},
   "outputs": [],
   "source": [
    "df = pd.concat([df_A, df_B], axis=0, ignore_index=True)"
   ]
  },
  {
   "cell_type": "code",
   "execution_count": 14,
   "id": "45e5b990",
   "metadata": {},
   "outputs": [
    {
     "data": {
      "text/html": [
       "<div>\n",
       "<style scoped>\n",
       "    .dataframe tbody tr th:only-of-type {\n",
       "        vertical-align: middle;\n",
       "    }\n",
       "\n",
       "    .dataframe tbody tr th {\n",
       "        vertical-align: top;\n",
       "    }\n",
       "\n",
       "    .dataframe thead th {\n",
       "        text-align: right;\n",
       "    }\n",
       "</style>\n",
       "<table border=\"1\" class=\"dataframe\">\n",
       "  <thead>\n",
       "    <tr style=\"text-align: right;\">\n",
       "      <th></th>\n",
       "      <th>x_0</th>\n",
       "      <th>x_1</th>\n",
       "      <th>x_2</th>\n",
       "      <th>x_3</th>\n",
       "      <th>x_4</th>\n",
       "      <th>x_5</th>\n",
       "      <th>x_6</th>\n",
       "      <th>x_7</th>\n",
       "      <th>x_8</th>\n",
       "      <th>x_9</th>\n",
       "      <th>x_10</th>\n",
       "      <th>x_11</th>\n",
       "      <th>phase</th>\n",
       "      <th>y</th>\n",
       "      <th>z</th>\n",
       "    </tr>\n",
       "  </thead>\n",
       "  <tbody>\n",
       "    <tr>\n",
       "      <th>21</th>\n",
       "      <td>0.929358</td>\n",
       "      <td>0.653710</td>\n",
       "      <td>0.797578</td>\n",
       "      <td>0.780395</td>\n",
       "      <td>0.730314</td>\n",
       "      <td>0.205159</td>\n",
       "      <td>0.495299</td>\n",
       "      <td>0.383110</td>\n",
       "      <td>0.851800</td>\n",
       "      <td>0.147143</td>\n",
       "      <td>0.343926</td>\n",
       "      <td>0.203845</td>\n",
       "      <td>A</td>\n",
       "      <td>22.661374</td>\n",
       "      <td>21.948502</td>\n",
       "    </tr>\n",
       "    <tr>\n",
       "      <th>29</th>\n",
       "      <td>0.886872</td>\n",
       "      <td>0.539663</td>\n",
       "      <td>0.603401</td>\n",
       "      <td>0.838245</td>\n",
       "      <td>0.790461</td>\n",
       "      <td>0.986462</td>\n",
       "      <td>0.954338</td>\n",
       "      <td>0.198913</td>\n",
       "      <td>0.805813</td>\n",
       "      <td>0.954274</td>\n",
       "      <td>0.105736</td>\n",
       "      <td>0.197874</td>\n",
       "      <td>A</td>\n",
       "      <td>22.526030</td>\n",
       "      <td>21.564773</td>\n",
       "    </tr>\n",
       "    <tr>\n",
       "      <th>31</th>\n",
       "      <td>0.715608</td>\n",
       "      <td>0.952157</td>\n",
       "      <td>0.839638</td>\n",
       "      <td>0.856736</td>\n",
       "      <td>0.691391</td>\n",
       "      <td>0.458034</td>\n",
       "      <td>0.724146</td>\n",
       "      <td>0.559770</td>\n",
       "      <td>0.540253</td>\n",
       "      <td>0.565460</td>\n",
       "      <td>0.376978</td>\n",
       "      <td>0.419407</td>\n",
       "      <td>A</td>\n",
       "      <td>22.751512</td>\n",
       "      <td>22.854839</td>\n",
       "    </tr>\n",
       "    <tr>\n",
       "      <th>61</th>\n",
       "      <td>0.876506</td>\n",
       "      <td>0.692159</td>\n",
       "      <td>0.876006</td>\n",
       "      <td>0.798372</td>\n",
       "      <td>0.529613</td>\n",
       "      <td>0.457647</td>\n",
       "      <td>0.577009</td>\n",
       "      <td>0.639616</td>\n",
       "      <td>0.898312</td>\n",
       "      <td>0.663450</td>\n",
       "      <td>0.707975</td>\n",
       "      <td>0.069513</td>\n",
       "      <td>A</td>\n",
       "      <td>22.903000</td>\n",
       "      <td>23.086941</td>\n",
       "    </tr>\n",
       "    <tr>\n",
       "      <th>65</th>\n",
       "      <td>0.649831</td>\n",
       "      <td>0.358901</td>\n",
       "      <td>0.986803</td>\n",
       "      <td>0.889413</td>\n",
       "      <td>0.615011</td>\n",
       "      <td>0.479688</td>\n",
       "      <td>0.638708</td>\n",
       "      <td>0.022706</td>\n",
       "      <td>0.084101</td>\n",
       "      <td>0.655546</td>\n",
       "      <td>0.300311</td>\n",
       "      <td>0.445240</td>\n",
       "      <td>B</td>\n",
       "      <td>23.397491</td>\n",
       "      <td>18.776512</td>\n",
       "    </tr>\n",
       "    <tr>\n",
       "      <th>85</th>\n",
       "      <td>0.717748</td>\n",
       "      <td>0.938932</td>\n",
       "      <td>0.021664</td>\n",
       "      <td>0.875379</td>\n",
       "      <td>0.931795</td>\n",
       "      <td>0.892580</td>\n",
       "      <td>0.648662</td>\n",
       "      <td>0.078989</td>\n",
       "      <td>0.371356</td>\n",
       "      <td>0.850696</td>\n",
       "      <td>0.112546</td>\n",
       "      <td>0.833351</td>\n",
       "      <td>B</td>\n",
       "      <td>26.532997</td>\n",
       "      <td>14.000002</td>\n",
       "    </tr>\n",
       "    <tr>\n",
       "      <th>108</th>\n",
       "      <td>0.640371</td>\n",
       "      <td>0.624592</td>\n",
       "      <td>0.032030</td>\n",
       "      <td>0.361062</td>\n",
       "      <td>0.933310</td>\n",
       "      <td>0.137962</td>\n",
       "      <td>0.173491</td>\n",
       "      <td>0.392234</td>\n",
       "      <td>0.944317</td>\n",
       "      <td>0.099711</td>\n",
       "      <td>0.505507</td>\n",
       "      <td>0.589238</td>\n",
       "      <td>B</td>\n",
       "      <td>22.167366</td>\n",
       "      <td>20.214051</td>\n",
       "    </tr>\n",
       "    <tr>\n",
       "      <th>111</th>\n",
       "      <td>0.694248</td>\n",
       "      <td>0.653660</td>\n",
       "      <td>0.869042</td>\n",
       "      <td>0.637604</td>\n",
       "      <td>0.612329</td>\n",
       "      <td>0.054063</td>\n",
       "      <td>0.346759</td>\n",
       "      <td>0.327805</td>\n",
       "      <td>0.038413</td>\n",
       "      <td>0.849023</td>\n",
       "      <td>0.467037</td>\n",
       "      <td>0.880190</td>\n",
       "      <td>B</td>\n",
       "      <td>22.056380</td>\n",
       "      <td>20.335095</td>\n",
       "    </tr>\n",
       "    <tr>\n",
       "      <th>126</th>\n",
       "      <td>0.396540</td>\n",
       "      <td>0.799699</td>\n",
       "      <td>0.174039</td>\n",
       "      <td>0.874060</td>\n",
       "      <td>0.932801</td>\n",
       "      <td>0.051566</td>\n",
       "      <td>0.708045</td>\n",
       "      <td>0.322171</td>\n",
       "      <td>0.538629</td>\n",
       "      <td>0.166961</td>\n",
       "      <td>0.823541</td>\n",
       "      <td>0.319087</td>\n",
       "      <td>B</td>\n",
       "      <td>23.923943</td>\n",
       "      <td>18.100966</td>\n",
       "    </tr>\n",
       "  </tbody>\n",
       "</table>\n",
       "</div>"
      ],
      "text/plain": [
       "          x_0       x_1       x_2       x_3       x_4       x_5       x_6  \\\n",
       "21   0.929358  0.653710  0.797578  0.780395  0.730314  0.205159  0.495299   \n",
       "29   0.886872  0.539663  0.603401  0.838245  0.790461  0.986462  0.954338   \n",
       "31   0.715608  0.952157  0.839638  0.856736  0.691391  0.458034  0.724146   \n",
       "61   0.876506  0.692159  0.876006  0.798372  0.529613  0.457647  0.577009   \n",
       "65   0.649831  0.358901  0.986803  0.889413  0.615011  0.479688  0.638708   \n",
       "85   0.717748  0.938932  0.021664  0.875379  0.931795  0.892580  0.648662   \n",
       "108  0.640371  0.624592  0.032030  0.361062  0.933310  0.137962  0.173491   \n",
       "111  0.694248  0.653660  0.869042  0.637604  0.612329  0.054063  0.346759   \n",
       "126  0.396540  0.799699  0.174039  0.874060  0.932801  0.051566  0.708045   \n",
       "\n",
       "          x_7       x_8       x_9      x_10      x_11 phase          y  \\\n",
       "21   0.383110  0.851800  0.147143  0.343926  0.203845     A  22.661374   \n",
       "29   0.198913  0.805813  0.954274  0.105736  0.197874     A  22.526030   \n",
       "31   0.559770  0.540253  0.565460  0.376978  0.419407     A  22.751512   \n",
       "61   0.639616  0.898312  0.663450  0.707975  0.069513     A  22.903000   \n",
       "65   0.022706  0.084101  0.655546  0.300311  0.445240     B  23.397491   \n",
       "85   0.078989  0.371356  0.850696  0.112546  0.833351     B  26.532997   \n",
       "108  0.392234  0.944317  0.099711  0.505507  0.589238     B  22.167366   \n",
       "111  0.327805  0.038413  0.849023  0.467037  0.880190     B  22.056380   \n",
       "126  0.322171  0.538629  0.166961  0.823541  0.319087     B  23.923943   \n",
       "\n",
       "             z  \n",
       "21   21.948502  \n",
       "29   21.564773  \n",
       "31   22.854839  \n",
       "61   23.086941  \n",
       "65   18.776512  \n",
       "85   14.000002  \n",
       "108  20.214051  \n",
       "111  20.335095  \n",
       "126  18.100966  "
      ]
     },
     "execution_count": 14,
     "metadata": {},
     "output_type": "execute_result"
    }
   ],
   "source": [
    "df[df[\"y\"] > 22]"
   ]
  },
  {
   "cell_type": "markdown",
   "id": "67273353",
   "metadata": {},
   "source": [
    "Inspecting points for which y > 22 (above), we see that the only ones that there are only two points that also have z > 22, and they are both in the A phase. These points will be the targets."
   ]
  },
  {
   "cell_type": "code",
   "execution_count": 174,
   "id": "786e849c",
   "metadata": {},
   "outputs": [],
   "source": [
    "# Write the data to CSV\n",
    "df.to_csv(\"../src/main/resources/friedman_grosse_data.csv\", index=False)"
   ]
  },
  {
   "cell_type": "code",
   "execution_count": 8,
   "id": "2a9196b6",
   "metadata": {},
   "outputs": [
    {
     "data": {
      "image/png": "[encoded data removed]",
      "text/plain": [
       "<Figure size 432x288 with 1 Axes>"
      ]
     },
     "metadata": {
      "needs_background": "light"
     },
     "output_type": "display_data"
    }
   ],
   "source": [
    "# Re-plot the data, showing the objective region\n",
    "plt.scatter(Y_A, Z_A, label=\"A data\")\n",
    "plt.scatter(Y_B, Z_B, label=\"B data\")\n",
    "plt.hlines(22.0, xmin=22.0, xmax=28.0, linestyles='dashed', colors='k')\n",
    "plt.vlines(22.0, ymin=22.0, ymax=30.0, linestyles='dashed', colors='k')\n",
    "plt.xlabel(\"first output (y)\")\n",
    "plt.ylabel(\"second output (z)\")\n",
    "plt.title(\"Two regions of data generated with Friedman-Grosse function\")\n",
    "plt.legend()\n",
    "plt.show()"
   ]
  },
  {
   "cell_type": "code",
   "execution_count": null,
   "id": "e5bf5fe4",
   "metadata": {},
   "outputs": [],
   "source": []
  }
 ],
 "metadata": {
  "kernelspec": {
   "display_name": "Python 3 (ipykernel)",
   "language": "python",
   "name": "python3"
  },
  "language_info": {
   "codemirror_mode": {
    "name": "ipython",
    "version": 3
   },
   "file_extension": ".py",
   "mimetype": "text/x-python",
   "name": "python",
   "nbconvert_exporter": "python",
   "pygments_lexer": "ipython3",
   "version": "3.8.12"
  }
 },
 "nbformat": 4,
 "nbformat_minor": 5
}
