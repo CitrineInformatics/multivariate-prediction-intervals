{
 "cells": [
  {
   "cell_type": "code",
   "execution_count": 18,
   "id": "3aaa3f4c",
   "metadata": {},
   "outputs": [],
   "source": [
    "import pandas as pd\n",
    "import numpy as np\n",
    "import matplotlib.pyplot as plt"
   ]
  },
  {
   "cell_type": "code",
   "execution_count": 19,
   "id": "e3ea0ab6",
   "metadata": {},
   "outputs": [],
   "source": [
    "df_trivial = pd.read_csv(\"mechanical-properties-sl-trivial.csv\")\n",
    "df_bootstrap = pd.read_csv(\"mechanical-properties-sl-bootstrap.csv\")\n",
    "df_jackknife = pd.read_csv(\"mechanical-properties-sl-jackknife.csv\")"
   ]
  },
  {
   "cell_type": "code",
   "execution_count": 14,
   "id": "adf2e41f",
   "metadata": {},
   "outputs": [],
   "source": [
    "def print_mean_rounds(df, label):\n",
    "    iterations = df[\"rounds\"].to_numpy()\n",
    "    mean = np.mean(iterations)\n",
    "    stderr = np.std(iterations, ddof=1) / np.sqrt(len(iterations))\n",
    "    print(f\"{label} takes {mean} +/- {stderr} rounds\")"
   ]
  },
  {
   "cell_type": "code",
   "execution_count": 20,
   "id": "283d00ac",
   "metadata": {},
   "outputs": [
    {
     "name": "stdout",
     "output_type": "stream",
     "text": [
      "trivial takes 84.53125 +/- 4.822132379921162 rounds\n",
      "bootstrap takes 88.22413793103448 +/- 4.577889674051222 rounds\n",
      "jackknife takes 25.0 +/- 2.4416808873306017 rounds\n"
     ]
    }
   ],
   "source": [
    "print_mean_rounds(df_trivial, \"trivial\")\n",
    "print_mean_rounds(df_bootstrap, \"bootstrap\")\n",
    "print_mean_rounds(df_jackknife, \"jackknife\")"
   ]
  },
  {
   "cell_type": "code",
   "execution_count": 12,
   "id": "3849b17d",
   "metadata": {},
   "outputs": [
    {
     "data": {
      "image/png": "[encoded data removed]",
      "text/plain": [
       "<Figure size 432x288 with 1 Axes>"
      ]
     },
     "metadata": {
      "needs_background": "light"
     },
     "output_type": "display_data"
    }
   ],
   "source": [
    "plt.violinplot(\n",
    "    [\n",
    "        df_trivial[\"rounds\"].to_numpy(),\n",
    "        df_bootstrap[\"rounds\"].to_numpy(),\n",
    "        df_jackknife[\"rounds\"].to_numpy()\n",
    "    ],\n",
    "    showmeans=True,\n",
    "    showextrema=False\n",
    ")\n",
    "plt.xticks([1, 2, 3], [\"Trivial\", \"Bootstrap\", \"Jackknife\"])\n",
    "plt.ylabel(\"Number of rounds\")\n",
    "plt.title(\"Thermoelectrics data, 1 satisfactory candidate\")\n",
    "plt.show()"
   ]
  },
  {
   "cell_type": "code",
   "execution_count": null,
   "id": "d99f5dec",
   "metadata": {},
   "outputs": [],
   "source": []
  }
 ],
 "metadata": {
  "kernelspec": {
   "display_name": "Python 3 (ipykernel)",
   "language": "python",
   "name": "python3"
  },
  "language_info": {
   "codemirror_mode": {
    "name": "ipython",
    "version": 3
   },
   "file_extension": ".py",
   "mimetype": "text/x-python",
   "name": "python",
   "nbconvert_exporter": "python",
   "pygments_lexer": "ipython3",
   "version": "3.8.12"
  }
 },
 "nbformat": 4,
 "nbformat_minor": 5
}
